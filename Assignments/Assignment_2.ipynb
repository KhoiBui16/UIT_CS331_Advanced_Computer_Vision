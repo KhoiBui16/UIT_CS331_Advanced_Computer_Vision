{
  "nbformat": 4,
  "nbformat_minor": 0,
  "metadata": {
    "colab": {
      "provenance": [],
      "gpuType": "T4"
    },
    "kernelspec": {
      "name": "python3",
      "display_name": "Python 3"
    },
    "language_info": {
      "name": "python"
    },
    "accelerator": "GPU"
  },
  "cells": [
    {
      "cell_type": "code",
      "execution_count": 55,
      "metadata": {
        "id": "hsDeDxw5o7iC"
      },
      "outputs": [],
      "source": [
        "zip_file = \"/content/drive/MyDrive/CS331_Advanced_CV/HoaVietNam.zip\"\n",
        "output_dir = \"/content/drive/MyDrive/CS331_Advanced_CV\""
      ]
    },
    {
      "cell_type": "code",
      "source": [
        "zip_file = \"/content/drive/MyDrive/CS331_Advanced_CV/HoaVietNam.zip\"\n",
        "output_dir = \"/content/drive/MyDrive/CS331_Advanced_CV\"\n",
        "\n",
        "!mkdir -p \"$output_dir\"\n",
        "!unzip -o \"$zip_file\" -d \"$output_dir\"\n"
      ],
      "metadata": {
        "colab": {
          "base_uri": "https://localhost:8080/"
        },
        "id": "kKiUadyr0LhA",
        "outputId": "5a5e210b-159c-4731-e7db-01b9d4b61c6b"
      },
      "execution_count": 56,
      "outputs": [
        {
          "output_type": "stream",
          "name": "stdout",
          "text": [
            "Archive:  /content/drive/MyDrive/CS331_Advanced_CV/HoaVietNam.zip\n",
            "  inflating: /content/drive/MyDrive/CS331_Advanced_CV/HoaVietNam/test/Cuc/0031.jpg  \n",
            "  inflating: /content/drive/MyDrive/CS331_Advanced_CV/HoaVietNam/test/Cuc/0032.jpg  \n",
            "  inflating: /content/drive/MyDrive/CS331_Advanced_CV/HoaVietNam/test/Cuc/0033.jpg  \n",
            "  inflating: /content/drive/MyDrive/CS331_Advanced_CV/HoaVietNam/test/Cuc/0034.jpg  \n",
            "  inflating: /content/drive/MyDrive/CS331_Advanced_CV/HoaVietNam/test/Cuc/0035.jpg  \n",
            "  inflating: /content/drive/MyDrive/CS331_Advanced_CV/HoaVietNam/test/Cuc/0036.jpg  \n",
            "  inflating: /content/drive/MyDrive/CS331_Advanced_CV/HoaVietNam/test/Cuc/0037.jpg  \n",
            "  inflating: /content/drive/MyDrive/CS331_Advanced_CV/HoaVietNam/test/Cuc/0038.jpg  \n",
            "  inflating: /content/drive/MyDrive/CS331_Advanced_CV/HoaVietNam/test/Cuc/0039.jpg  \n",
            "  inflating: /content/drive/MyDrive/CS331_Advanced_CV/HoaVietNam/test/Cuc/0040.jpg  \n",
            "  inflating: /content/drive/MyDrive/CS331_Advanced_CV/HoaVietNam/test/Dao/0031.jpg  \n",
            "  inflating: /content/drive/MyDrive/CS331_Advanced_CV/HoaVietNam/test/Dao/0032.jpg  \n",
            "  inflating: /content/drive/MyDrive/CS331_Advanced_CV/HoaVietNam/test/Dao/0033.jpg  \n",
            "  inflating: /content/drive/MyDrive/CS331_Advanced_CV/HoaVietNam/test/Dao/0034.jpg  \n",
            "  inflating: /content/drive/MyDrive/CS331_Advanced_CV/HoaVietNam/test/Dao/0035.jpg  \n",
            "  inflating: /content/drive/MyDrive/CS331_Advanced_CV/HoaVietNam/test/Dao/0036.jpg  \n",
            "  inflating: /content/drive/MyDrive/CS331_Advanced_CV/HoaVietNam/test/Dao/0037.jpg  \n",
            "  inflating: /content/drive/MyDrive/CS331_Advanced_CV/HoaVietNam/test/Dao/0038.jpg  \n",
            "  inflating: /content/drive/MyDrive/CS331_Advanced_CV/HoaVietNam/test/Dao/0039.jpg  \n",
            "  inflating: /content/drive/MyDrive/CS331_Advanced_CV/HoaVietNam/test/Dao/0040.jpg  \n",
            "  inflating: /content/drive/MyDrive/CS331_Advanced_CV/HoaVietNam/test/Lan/0031.jpg  \n",
            "  inflating: /content/drive/MyDrive/CS331_Advanced_CV/HoaVietNam/test/Lan/0032.jpg  \n",
            "  inflating: /content/drive/MyDrive/CS331_Advanced_CV/HoaVietNam/test/Lan/0033.jpg  \n",
            "  inflating: /content/drive/MyDrive/CS331_Advanced_CV/HoaVietNam/test/Lan/0034.jpg  \n",
            "  inflating: /content/drive/MyDrive/CS331_Advanced_CV/HoaVietNam/test/Lan/0035.jpg  \n",
            "  inflating: /content/drive/MyDrive/CS331_Advanced_CV/HoaVietNam/test/Lan/0036.jpg  \n",
            "  inflating: /content/drive/MyDrive/CS331_Advanced_CV/HoaVietNam/test/Lan/0037.jpg  \n",
            "  inflating: /content/drive/MyDrive/CS331_Advanced_CV/HoaVietNam/test/Lan/0038.jpg  \n",
            "  inflating: /content/drive/MyDrive/CS331_Advanced_CV/HoaVietNam/test/Lan/0039.jpg  \n",
            "  inflating: /content/drive/MyDrive/CS331_Advanced_CV/HoaVietNam/test/Lan/0040.jpg  \n",
            "  inflating: /content/drive/MyDrive/CS331_Advanced_CV/HoaVietNam/test/Mai/0031.jpg  \n",
            "  inflating: /content/drive/MyDrive/CS331_Advanced_CV/HoaVietNam/test/Mai/0032.jpg  \n",
            "  inflating: /content/drive/MyDrive/CS331_Advanced_CV/HoaVietNam/test/Mai/0033.jpg  \n",
            "  inflating: /content/drive/MyDrive/CS331_Advanced_CV/HoaVietNam/test/Mai/0034.jpg  \n",
            "  inflating: /content/drive/MyDrive/CS331_Advanced_CV/HoaVietNam/test/Mai/0035.jpg  \n",
            "  inflating: /content/drive/MyDrive/CS331_Advanced_CV/HoaVietNam/test/Mai/0036.jpg  \n",
            "  inflating: /content/drive/MyDrive/CS331_Advanced_CV/HoaVietNam/test/Mai/0037.jpg  \n",
            "  inflating: /content/drive/MyDrive/CS331_Advanced_CV/HoaVietNam/test/Mai/0038.jpg  \n",
            "  inflating: /content/drive/MyDrive/CS331_Advanced_CV/HoaVietNam/test/Mai/0039.jpg  \n",
            "  inflating: /content/drive/MyDrive/CS331_Advanced_CV/HoaVietNam/test/Mai/0040.jpg  \n",
            "  inflating: /content/drive/MyDrive/CS331_Advanced_CV/HoaVietNam/test/Tho/0031.jpg  \n",
            "  inflating: /content/drive/MyDrive/CS331_Advanced_CV/HoaVietNam/test/Tho/0032.jpg  \n",
            "  inflating: /content/drive/MyDrive/CS331_Advanced_CV/HoaVietNam/test/Tho/0033.jpg  \n",
            "  inflating: /content/drive/MyDrive/CS331_Advanced_CV/HoaVietNam/test/Tho/0034.jpg  \n",
            "  inflating: /content/drive/MyDrive/CS331_Advanced_CV/HoaVietNam/test/Tho/0035.jpg  \n",
            "  inflating: /content/drive/MyDrive/CS331_Advanced_CV/HoaVietNam/test/Tho/0036.jpg  \n",
            "  inflating: /content/drive/MyDrive/CS331_Advanced_CV/HoaVietNam/test/Tho/0037.jpg  \n",
            "  inflating: /content/drive/MyDrive/CS331_Advanced_CV/HoaVietNam/test/Tho/0038.jpg  \n",
            "  inflating: /content/drive/MyDrive/CS331_Advanced_CV/HoaVietNam/test/Tho/0039.jpg  \n",
            "  inflating: /content/drive/MyDrive/CS331_Advanced_CV/HoaVietNam/test/Tho/0040.jpg  \n",
            "  inflating: /content/drive/MyDrive/CS331_Advanced_CV/HoaVietNam/train/Cuc/0001.jpg  \n",
            "  inflating: /content/drive/MyDrive/CS331_Advanced_CV/HoaVietNam/train/Cuc/0002.jpg  \n",
            "  inflating: /content/drive/MyDrive/CS331_Advanced_CV/HoaVietNam/train/Cuc/0003.jpg  \n",
            "  inflating: /content/drive/MyDrive/CS331_Advanced_CV/HoaVietNam/train/Cuc/0004.jpg  \n",
            "  inflating: /content/drive/MyDrive/CS331_Advanced_CV/HoaVietNam/train/Cuc/0005.jpg  \n",
            "  inflating: /content/drive/MyDrive/CS331_Advanced_CV/HoaVietNam/train/Cuc/0006.jpg  \n",
            "  inflating: /content/drive/MyDrive/CS331_Advanced_CV/HoaVietNam/train/Cuc/0007.jpg  \n",
            "  inflating: /content/drive/MyDrive/CS331_Advanced_CV/HoaVietNam/train/Cuc/0008.jpg  \n",
            "  inflating: /content/drive/MyDrive/CS331_Advanced_CV/HoaVietNam/train/Cuc/0009.jpg  \n",
            "  inflating: /content/drive/MyDrive/CS331_Advanced_CV/HoaVietNam/train/Cuc/0010.jpg  \n",
            "  inflating: /content/drive/MyDrive/CS331_Advanced_CV/HoaVietNam/train/Cuc/0011.jpg  \n",
            "  inflating: /content/drive/MyDrive/CS331_Advanced_CV/HoaVietNam/train/Cuc/0012.jpg  \n",
            "  inflating: /content/drive/MyDrive/CS331_Advanced_CV/HoaVietNam/train/Cuc/0013.jpg  \n",
            "  inflating: /content/drive/MyDrive/CS331_Advanced_CV/HoaVietNam/train/Cuc/0014.jpg  \n",
            "  inflating: /content/drive/MyDrive/CS331_Advanced_CV/HoaVietNam/train/Cuc/0015.jpg  \n",
            "  inflating: /content/drive/MyDrive/CS331_Advanced_CV/HoaVietNam/train/Cuc/0016.jpg  \n",
            "  inflating: /content/drive/MyDrive/CS331_Advanced_CV/HoaVietNam/train/Cuc/0017.jpg  \n",
            "  inflating: /content/drive/MyDrive/CS331_Advanced_CV/HoaVietNam/train/Cuc/0018.jpg  \n",
            "  inflating: /content/drive/MyDrive/CS331_Advanced_CV/HoaVietNam/train/Cuc/0019.jpg  \n",
            "  inflating: /content/drive/MyDrive/CS331_Advanced_CV/HoaVietNam/train/Cuc/0020.jpg  \n",
            "  inflating: /content/drive/MyDrive/CS331_Advanced_CV/HoaVietNam/train/Cuc/0021.jpg  \n",
            "  inflating: /content/drive/MyDrive/CS331_Advanced_CV/HoaVietNam/train/Cuc/0022.jpg  \n",
            "  inflating: /content/drive/MyDrive/CS331_Advanced_CV/HoaVietNam/train/Cuc/0023.jpg  \n",
            "  inflating: /content/drive/MyDrive/CS331_Advanced_CV/HoaVietNam/train/Cuc/0024.jpg  \n",
            "  inflating: /content/drive/MyDrive/CS331_Advanced_CV/HoaVietNam/train/Cuc/0025.jpg  \n",
            "  inflating: /content/drive/MyDrive/CS331_Advanced_CV/HoaVietNam/train/Cuc/0026.jpg  \n",
            "  inflating: /content/drive/MyDrive/CS331_Advanced_CV/HoaVietNam/train/Cuc/0027.jpg  \n",
            "  inflating: /content/drive/MyDrive/CS331_Advanced_CV/HoaVietNam/train/Cuc/0029.jpg  \n",
            "  inflating: /content/drive/MyDrive/CS331_Advanced_CV/HoaVietNam/train/Cuc/0030.jpg  \n",
            "  inflating: /content/drive/MyDrive/CS331_Advanced_CV/HoaVietNam/train/Cuc/028.jpg  \n",
            "  inflating: /content/drive/MyDrive/CS331_Advanced_CV/HoaVietNam/train/Dao/0001.jpg  \n",
            "  inflating: /content/drive/MyDrive/CS331_Advanced_CV/HoaVietNam/train/Dao/0002.jpg  \n",
            "  inflating: /content/drive/MyDrive/CS331_Advanced_CV/HoaVietNam/train/Dao/0003.jpg  \n",
            "  inflating: /content/drive/MyDrive/CS331_Advanced_CV/HoaVietNam/train/Dao/0004.jpg  \n",
            "  inflating: /content/drive/MyDrive/CS331_Advanced_CV/HoaVietNam/train/Dao/0005.jpg  \n",
            "  inflating: /content/drive/MyDrive/CS331_Advanced_CV/HoaVietNam/train/Dao/0006.jpg  \n",
            "  inflating: /content/drive/MyDrive/CS331_Advanced_CV/HoaVietNam/train/Dao/0007.jpg  \n",
            "  inflating: /content/drive/MyDrive/CS331_Advanced_CV/HoaVietNam/train/Dao/0008.jpg  \n",
            "  inflating: /content/drive/MyDrive/CS331_Advanced_CV/HoaVietNam/train/Dao/0009.jpg  \n",
            "  inflating: /content/drive/MyDrive/CS331_Advanced_CV/HoaVietNam/train/Dao/0010.jpg  \n",
            "  inflating: /content/drive/MyDrive/CS331_Advanced_CV/HoaVietNam/train/Dao/0011.jpg  \n",
            "  inflating: /content/drive/MyDrive/CS331_Advanced_CV/HoaVietNam/train/Dao/0012.jpg  \n",
            "  inflating: /content/drive/MyDrive/CS331_Advanced_CV/HoaVietNam/train/Dao/0013.jpg  \n",
            "  inflating: /content/drive/MyDrive/CS331_Advanced_CV/HoaVietNam/train/Dao/0014.jpg  \n",
            "  inflating: /content/drive/MyDrive/CS331_Advanced_CV/HoaVietNam/train/Dao/0015.jpg  \n",
            "  inflating: /content/drive/MyDrive/CS331_Advanced_CV/HoaVietNam/train/Dao/0016.jpg  \n",
            "  inflating: /content/drive/MyDrive/CS331_Advanced_CV/HoaVietNam/train/Dao/0017.jpg  \n",
            "  inflating: /content/drive/MyDrive/CS331_Advanced_CV/HoaVietNam/train/Dao/0018.jpg  \n",
            "  inflating: /content/drive/MyDrive/CS331_Advanced_CV/HoaVietNam/train/Dao/0019.jpg  \n",
            "  inflating: /content/drive/MyDrive/CS331_Advanced_CV/HoaVietNam/train/Dao/0020.jpg  \n",
            "  inflating: /content/drive/MyDrive/CS331_Advanced_CV/HoaVietNam/train/Dao/0021.jpg  \n",
            "  inflating: /content/drive/MyDrive/CS331_Advanced_CV/HoaVietNam/train/Dao/0022.jpg  \n",
            "  inflating: /content/drive/MyDrive/CS331_Advanced_CV/HoaVietNam/train/Dao/0023.jpg  \n",
            "  inflating: /content/drive/MyDrive/CS331_Advanced_CV/HoaVietNam/train/Dao/0024.jpg  \n",
            "  inflating: /content/drive/MyDrive/CS331_Advanced_CV/HoaVietNam/train/Dao/0025.jpg  \n",
            "  inflating: /content/drive/MyDrive/CS331_Advanced_CV/HoaVietNam/train/Dao/0026.jpg  \n",
            "  inflating: /content/drive/MyDrive/CS331_Advanced_CV/HoaVietNam/train/Dao/0027.jpg  \n",
            "  inflating: /content/drive/MyDrive/CS331_Advanced_CV/HoaVietNam/train/Dao/0028.jpg  \n",
            "  inflating: /content/drive/MyDrive/CS331_Advanced_CV/HoaVietNam/train/Dao/0029.jpg  \n",
            "  inflating: /content/drive/MyDrive/CS331_Advanced_CV/HoaVietNam/train/Dao/0030.jpg  \n",
            "  inflating: /content/drive/MyDrive/CS331_Advanced_CV/HoaVietNam/train/Lan/0001.jpg  \n",
            "  inflating: /content/drive/MyDrive/CS331_Advanced_CV/HoaVietNam/train/Lan/0002.jpg  \n",
            "  inflating: /content/drive/MyDrive/CS331_Advanced_CV/HoaVietNam/train/Lan/0003.jpg  \n",
            "  inflating: /content/drive/MyDrive/CS331_Advanced_CV/HoaVietNam/train/Lan/0004.jpg  \n",
            "  inflating: /content/drive/MyDrive/CS331_Advanced_CV/HoaVietNam/train/Lan/0005.jpg  \n",
            "  inflating: /content/drive/MyDrive/CS331_Advanced_CV/HoaVietNam/train/Lan/0006.jpg  \n",
            "  inflating: /content/drive/MyDrive/CS331_Advanced_CV/HoaVietNam/train/Lan/0007.jpg  \n",
            "  inflating: /content/drive/MyDrive/CS331_Advanced_CV/HoaVietNam/train/Lan/0008.jpg  \n",
            "  inflating: /content/drive/MyDrive/CS331_Advanced_CV/HoaVietNam/train/Lan/0009.jpg  \n",
            "  inflating: /content/drive/MyDrive/CS331_Advanced_CV/HoaVietNam/train/Lan/0010.jpg  \n",
            "  inflating: /content/drive/MyDrive/CS331_Advanced_CV/HoaVietNam/train/Lan/0011.jpg  \n",
            "  inflating: /content/drive/MyDrive/CS331_Advanced_CV/HoaVietNam/train/Lan/0012.jpg  \n",
            "  inflating: /content/drive/MyDrive/CS331_Advanced_CV/HoaVietNam/train/Lan/0013.jpg  \n",
            "  inflating: /content/drive/MyDrive/CS331_Advanced_CV/HoaVietNam/train/Lan/0014.jpg  \n",
            "  inflating: /content/drive/MyDrive/CS331_Advanced_CV/HoaVietNam/train/Lan/0015.jpg  \n",
            "  inflating: /content/drive/MyDrive/CS331_Advanced_CV/HoaVietNam/train/Lan/0016.jpg  \n",
            "  inflating: /content/drive/MyDrive/CS331_Advanced_CV/HoaVietNam/train/Lan/0017.jpg  \n",
            "  inflating: /content/drive/MyDrive/CS331_Advanced_CV/HoaVietNam/train/Lan/0018.jpg  \n",
            "  inflating: /content/drive/MyDrive/CS331_Advanced_CV/HoaVietNam/train/Lan/0019.jpg  \n",
            "  inflating: /content/drive/MyDrive/CS331_Advanced_CV/HoaVietNam/train/Lan/0020.jpg  \n",
            "  inflating: /content/drive/MyDrive/CS331_Advanced_CV/HoaVietNam/train/Lan/0021.jpg  \n",
            "  inflating: /content/drive/MyDrive/CS331_Advanced_CV/HoaVietNam/train/Lan/0022.jpg  \n",
            "  inflating: /content/drive/MyDrive/CS331_Advanced_CV/HoaVietNam/train/Lan/0023.jpg  \n",
            "  inflating: /content/drive/MyDrive/CS331_Advanced_CV/HoaVietNam/train/Lan/0024.jpg  \n",
            "  inflating: /content/drive/MyDrive/CS331_Advanced_CV/HoaVietNam/train/Lan/0025.jpg  \n",
            "  inflating: /content/drive/MyDrive/CS331_Advanced_CV/HoaVietNam/train/Lan/0026.jpg  \n",
            "  inflating: /content/drive/MyDrive/CS331_Advanced_CV/HoaVietNam/train/Lan/0027.jpg  \n",
            "  inflating: /content/drive/MyDrive/CS331_Advanced_CV/HoaVietNam/train/Lan/0028.jpg  \n",
            "  inflating: /content/drive/MyDrive/CS331_Advanced_CV/HoaVietNam/train/Lan/0029.jpg  \n",
            "  inflating: /content/drive/MyDrive/CS331_Advanced_CV/HoaVietNam/train/Lan/0030.jpg  \n",
            "  inflating: /content/drive/MyDrive/CS331_Advanced_CV/HoaVietNam/train/Mai/0001.jpg  \n",
            "  inflating: /content/drive/MyDrive/CS331_Advanced_CV/HoaVietNam/train/Mai/0002.jpg  \n",
            "  inflating: /content/drive/MyDrive/CS331_Advanced_CV/HoaVietNam/train/Mai/0003.jpg  \n",
            "  inflating: /content/drive/MyDrive/CS331_Advanced_CV/HoaVietNam/train/Mai/0004.jpg  \n",
            "  inflating: /content/drive/MyDrive/CS331_Advanced_CV/HoaVietNam/train/Mai/0005.jpg  \n",
            "  inflating: /content/drive/MyDrive/CS331_Advanced_CV/HoaVietNam/train/Mai/0006.jpg  \n",
            "  inflating: /content/drive/MyDrive/CS331_Advanced_CV/HoaVietNam/train/Mai/0007.jpg  \n",
            "  inflating: /content/drive/MyDrive/CS331_Advanced_CV/HoaVietNam/train/Mai/0008.jpg  \n",
            "  inflating: /content/drive/MyDrive/CS331_Advanced_CV/HoaVietNam/train/Mai/0009.jpg  \n",
            "  inflating: /content/drive/MyDrive/CS331_Advanced_CV/HoaVietNam/train/Mai/0010.jpg  \n",
            "  inflating: /content/drive/MyDrive/CS331_Advanced_CV/HoaVietNam/train/Mai/0011.jpg  \n",
            "  inflating: /content/drive/MyDrive/CS331_Advanced_CV/HoaVietNam/train/Mai/0012.jpg  \n",
            "  inflating: /content/drive/MyDrive/CS331_Advanced_CV/HoaVietNam/train/Mai/0013.jpg  \n",
            "  inflating: /content/drive/MyDrive/CS331_Advanced_CV/HoaVietNam/train/Mai/0014.jpg  \n",
            "  inflating: /content/drive/MyDrive/CS331_Advanced_CV/HoaVietNam/train/Mai/0015.jpg  \n",
            "  inflating: /content/drive/MyDrive/CS331_Advanced_CV/HoaVietNam/train/Mai/0016.jpg  \n",
            "  inflating: /content/drive/MyDrive/CS331_Advanced_CV/HoaVietNam/train/Mai/0017.jpg  \n",
            "  inflating: /content/drive/MyDrive/CS331_Advanced_CV/HoaVietNam/train/Mai/0018.jpg  \n",
            "  inflating: /content/drive/MyDrive/CS331_Advanced_CV/HoaVietNam/train/Mai/0019.jpg  \n",
            "  inflating: /content/drive/MyDrive/CS331_Advanced_CV/HoaVietNam/train/Mai/0020.jpg  \n",
            "  inflating: /content/drive/MyDrive/CS331_Advanced_CV/HoaVietNam/train/Mai/0021.jpg  \n",
            "  inflating: /content/drive/MyDrive/CS331_Advanced_CV/HoaVietNam/train/Mai/0022.jpg  \n",
            "  inflating: /content/drive/MyDrive/CS331_Advanced_CV/HoaVietNam/train/Mai/0023.jpg  \n",
            "  inflating: /content/drive/MyDrive/CS331_Advanced_CV/HoaVietNam/train/Mai/0024.jpg  \n",
            "  inflating: /content/drive/MyDrive/CS331_Advanced_CV/HoaVietNam/train/Mai/0025.jpg  \n",
            "  inflating: /content/drive/MyDrive/CS331_Advanced_CV/HoaVietNam/train/Mai/0026.jpg  \n",
            "  inflating: /content/drive/MyDrive/CS331_Advanced_CV/HoaVietNam/train/Mai/0027.jpg  \n",
            "  inflating: /content/drive/MyDrive/CS331_Advanced_CV/HoaVietNam/train/Mai/0028.jpg  \n",
            "  inflating: /content/drive/MyDrive/CS331_Advanced_CV/HoaVietNam/train/Mai/0029.jpg  \n",
            "  inflating: /content/drive/MyDrive/CS331_Advanced_CV/HoaVietNam/train/Mai/0030.jpg  \n",
            "  inflating: /content/drive/MyDrive/CS331_Advanced_CV/HoaVietNam/train/Tho/0001.jpg  \n",
            "  inflating: /content/drive/MyDrive/CS331_Advanced_CV/HoaVietNam/train/Tho/0002.jpg  \n",
            "  inflating: /content/drive/MyDrive/CS331_Advanced_CV/HoaVietNam/train/Tho/0003.jpg  \n",
            "  inflating: /content/drive/MyDrive/CS331_Advanced_CV/HoaVietNam/train/Tho/0004.jpg  \n",
            "  inflating: /content/drive/MyDrive/CS331_Advanced_CV/HoaVietNam/train/Tho/0005.jpg  \n",
            "  inflating: /content/drive/MyDrive/CS331_Advanced_CV/HoaVietNam/train/Tho/0006.jpg  \n",
            "  inflating: /content/drive/MyDrive/CS331_Advanced_CV/HoaVietNam/train/Tho/0007.jpg  \n",
            "  inflating: /content/drive/MyDrive/CS331_Advanced_CV/HoaVietNam/train/Tho/0008.jpg  \n",
            "  inflating: /content/drive/MyDrive/CS331_Advanced_CV/HoaVietNam/train/Tho/0009.jpg  \n",
            "  inflating: /content/drive/MyDrive/CS331_Advanced_CV/HoaVietNam/train/Tho/0010.jpg  \n",
            "  inflating: /content/drive/MyDrive/CS331_Advanced_CV/HoaVietNam/train/Tho/0011.jpg  \n",
            "  inflating: /content/drive/MyDrive/CS331_Advanced_CV/HoaVietNam/train/Tho/0012.jpg  \n",
            "  inflating: /content/drive/MyDrive/CS331_Advanced_CV/HoaVietNam/train/Tho/0013.jpg  \n",
            "  inflating: /content/drive/MyDrive/CS331_Advanced_CV/HoaVietNam/train/Tho/0014.jpg  \n",
            "  inflating: /content/drive/MyDrive/CS331_Advanced_CV/HoaVietNam/train/Tho/0015.jpg  \n",
            "  inflating: /content/drive/MyDrive/CS331_Advanced_CV/HoaVietNam/train/Tho/0016.jpg  \n",
            "  inflating: /content/drive/MyDrive/CS331_Advanced_CV/HoaVietNam/train/Tho/0017.jpg  \n",
            "  inflating: /content/drive/MyDrive/CS331_Advanced_CV/HoaVietNam/train/Tho/0018.jpg  \n",
            "  inflating: /content/drive/MyDrive/CS331_Advanced_CV/HoaVietNam/train/Tho/0019.jpg  \n",
            "  inflating: /content/drive/MyDrive/CS331_Advanced_CV/HoaVietNam/train/Tho/0020.jpg  \n",
            "  inflating: /content/drive/MyDrive/CS331_Advanced_CV/HoaVietNam/train/Tho/0021.jpg  \n",
            "  inflating: /content/drive/MyDrive/CS331_Advanced_CV/HoaVietNam/train/Tho/0022.jpg  \n",
            "  inflating: /content/drive/MyDrive/CS331_Advanced_CV/HoaVietNam/train/Tho/0023.jpg  \n",
            "  inflating: /content/drive/MyDrive/CS331_Advanced_CV/HoaVietNam/train/Tho/0024.jpg  \n",
            "  inflating: /content/drive/MyDrive/CS331_Advanced_CV/HoaVietNam/train/Tho/0025.jpg  \n",
            "  inflating: /content/drive/MyDrive/CS331_Advanced_CV/HoaVietNam/train/Tho/0026.jpg  \n",
            "  inflating: /content/drive/MyDrive/CS331_Advanced_CV/HoaVietNam/train/Tho/0027.jpg  \n",
            "  inflating: /content/drive/MyDrive/CS331_Advanced_CV/HoaVietNam/train/Tho/0028.jpg  \n",
            "  inflating: /content/drive/MyDrive/CS331_Advanced_CV/HoaVietNam/train/Tho/0029.jpg  \n",
            "  inflating: /content/drive/MyDrive/CS331_Advanced_CV/HoaVietNam/train/Tho/0030.jpg  \n"
          ]
        }
      ]
    },
    {
      "cell_type": "code",
      "source": [
        "!pip install torch timm"
      ],
      "metadata": {
        "colab": {
          "base_uri": "https://localhost:8080/"
        },
        "id": "KWtHPiBJ1pYL",
        "outputId": "5af38bd6-d290-4a71-b612-00054e7caa69"
      },
      "execution_count": 57,
      "outputs": [
        {
          "output_type": "stream",
          "name": "stdout",
          "text": [
            "Requirement already satisfied: torch in /usr/local/lib/python3.12/dist-packages (2.8.0+cu126)\n",
            "Requirement already satisfied: timm in /usr/local/lib/python3.12/dist-packages (1.0.20)\n",
            "Requirement already satisfied: filelock in /usr/local/lib/python3.12/dist-packages (from torch) (3.19.1)\n",
            "Requirement already satisfied: typing-extensions>=4.10.0 in /usr/local/lib/python3.12/dist-packages (from torch) (4.15.0)\n",
            "Requirement already satisfied: setuptools in /usr/local/lib/python3.12/dist-packages (from torch) (75.2.0)\n",
            "Requirement already satisfied: sympy>=1.13.3 in /usr/local/lib/python3.12/dist-packages (from torch) (1.13.3)\n",
            "Requirement already satisfied: networkx in /usr/local/lib/python3.12/dist-packages (from torch) (3.5)\n",
            "Requirement already satisfied: jinja2 in /usr/local/lib/python3.12/dist-packages (from torch) (3.1.6)\n",
            "Requirement already satisfied: fsspec in /usr/local/lib/python3.12/dist-packages (from torch) (2025.3.0)\n",
            "Requirement already satisfied: nvidia-cuda-nvrtc-cu12==12.6.77 in /usr/local/lib/python3.12/dist-packages (from torch) (12.6.77)\n",
            "Requirement already satisfied: nvidia-cuda-runtime-cu12==12.6.77 in /usr/local/lib/python3.12/dist-packages (from torch) (12.6.77)\n",
            "Requirement already satisfied: nvidia-cuda-cupti-cu12==12.6.80 in /usr/local/lib/python3.12/dist-packages (from torch) (12.6.80)\n",
            "Requirement already satisfied: nvidia-cudnn-cu12==9.10.2.21 in /usr/local/lib/python3.12/dist-packages (from torch) (9.10.2.21)\n",
            "Requirement already satisfied: nvidia-cublas-cu12==12.6.4.1 in /usr/local/lib/python3.12/dist-packages (from torch) (12.6.4.1)\n",
            "Requirement already satisfied: nvidia-cufft-cu12==11.3.0.4 in /usr/local/lib/python3.12/dist-packages (from torch) (11.3.0.4)\n",
            "Requirement already satisfied: nvidia-curand-cu12==10.3.7.77 in /usr/local/lib/python3.12/dist-packages (from torch) (10.3.7.77)\n",
            "Requirement already satisfied: nvidia-cusolver-cu12==11.7.1.2 in /usr/local/lib/python3.12/dist-packages (from torch) (11.7.1.2)\n",
            "Requirement already satisfied: nvidia-cusparse-cu12==12.5.4.2 in /usr/local/lib/python3.12/dist-packages (from torch) (12.5.4.2)\n",
            "Requirement already satisfied: nvidia-cusparselt-cu12==0.7.1 in /usr/local/lib/python3.12/dist-packages (from torch) (0.7.1)\n",
            "Requirement already satisfied: nvidia-nccl-cu12==2.27.3 in /usr/local/lib/python3.12/dist-packages (from torch) (2.27.3)\n",
            "Requirement already satisfied: nvidia-nvtx-cu12==12.6.77 in /usr/local/lib/python3.12/dist-packages (from torch) (12.6.77)\n",
            "Requirement already satisfied: nvidia-nvjitlink-cu12==12.6.85 in /usr/local/lib/python3.12/dist-packages (from torch) (12.6.85)\n",
            "Requirement already satisfied: nvidia-cufile-cu12==1.11.1.6 in /usr/local/lib/python3.12/dist-packages (from torch) (1.11.1.6)\n",
            "Requirement already satisfied: triton==3.4.0 in /usr/local/lib/python3.12/dist-packages (from torch) (3.4.0)\n",
            "Requirement already satisfied: torchvision in /usr/local/lib/python3.12/dist-packages (from timm) (0.23.0+cu126)\n",
            "Requirement already satisfied: pyyaml in /usr/local/lib/python3.12/dist-packages (from timm) (6.0.3)\n",
            "Requirement already satisfied: huggingface_hub in /usr/local/lib/python3.12/dist-packages (from timm) (0.35.3)\n",
            "Requirement already satisfied: safetensors in /usr/local/lib/python3.12/dist-packages (from timm) (0.6.2)\n",
            "Requirement already satisfied: mpmath<1.4,>=1.1.0 in /usr/local/lib/python3.12/dist-packages (from sympy>=1.13.3->torch) (1.3.0)\n",
            "Requirement already satisfied: packaging>=20.9 in /usr/local/lib/python3.12/dist-packages (from huggingface_hub->timm) (25.0)\n",
            "Requirement already satisfied: requests in /usr/local/lib/python3.12/dist-packages (from huggingface_hub->timm) (2.32.4)\n",
            "Requirement already satisfied: tqdm>=4.42.1 in /usr/local/lib/python3.12/dist-packages (from huggingface_hub->timm) (4.67.1)\n",
            "Requirement already satisfied: hf-xet<2.0.0,>=1.1.3 in /usr/local/lib/python3.12/dist-packages (from huggingface_hub->timm) (1.1.10)\n",
            "Requirement already satisfied: MarkupSafe>=2.0 in /usr/local/lib/python3.12/dist-packages (from jinja2->torch) (3.0.3)\n",
            "Requirement already satisfied: numpy in /usr/local/lib/python3.12/dist-packages (from torchvision->timm) (2.0.2)\n",
            "Requirement already satisfied: pillow!=8.3.*,>=5.3.0 in /usr/local/lib/python3.12/dist-packages (from torchvision->timm) (11.3.0)\n",
            "Requirement already satisfied: charset_normalizer<4,>=2 in /usr/local/lib/python3.12/dist-packages (from requests->huggingface_hub->timm) (3.4.3)\n",
            "Requirement already satisfied: idna<4,>=2.5 in /usr/local/lib/python3.12/dist-packages (from requests->huggingface_hub->timm) (3.10)\n",
            "Requirement already satisfied: urllib3<3,>=1.21.1 in /usr/local/lib/python3.12/dist-packages (from requests->huggingface_hub->timm) (2.5.0)\n",
            "Requirement already satisfied: certifi>=2017.4.17 in /usr/local/lib/python3.12/dist-packages (from requests->huggingface_hub->timm) (2025.8.3)\n"
          ]
        }
      ]
    },
    {
      "cell_type": "code",
      "source": [
        "data_path = \"/content/drive/MyDrive/CS331_Advanced_CV/HoaVietNam\""
      ],
      "metadata": {
        "id": "Y1_ylsKZ1MXm"
      },
      "execution_count": 58,
      "outputs": []
    },
    {
      "cell_type": "code",
      "source": [
        "!ls -o \"$data_path\""
      ],
      "metadata": {
        "colab": {
          "base_uri": "https://localhost:8080/"
        },
        "id": "fhlpKDq64Hsb",
        "outputId": "ba871611-c314-49ac-d645-b8b76b009391"
      },
      "execution_count": 59,
      "outputs": [
        {
          "output_type": "stream",
          "name": "stdout",
          "text": [
            "total 8\n",
            "drwx------ 7 root 4096 May  6 15:06 test\n",
            "drwx------ 7 root 4096 May  6 15:07 train\n"
          ]
        }
      ]
    },
    {
      "cell_type": "markdown",
      "source": [
        "# Import the libraries"
      ],
      "metadata": {
        "id": "xO6-lXAS1uDj"
      }
    },
    {
      "cell_type": "code",
      "source": [
        "import os\n",
        "import cv2\n",
        "import numpy as np\n",
        "\n",
        "import torch\n",
        "import torch.nn as nn\n",
        "import torch.optim as optim\n",
        "import torchvision.transforms as transforms\n",
        "import torchvision.datasets as datasets\n",
        "from torch.utils.data import DataLoader, Dataset\n",
        "from timm import create_model\n",
        "from PIL import Image"
      ],
      "metadata": {
        "id": "n5pLd1Wu1rPQ"
      },
      "execution_count": 60,
      "outputs": []
    },
    {
      "cell_type": "markdown",
      "source": [
        "# Data Preparing"
      ],
      "metadata": {
        "id": "R5oKmZ5D2Tqt"
      }
    },
    {
      "cell_type": "code",
      "source": [
        "data_train_path = os.path.join(data_path, \"train\")\n",
        "data_test_path = os.path.join(data_path, \"test\")\n"
      ],
      "metadata": {
        "id": "qDVZ4Iy04Q2n"
      },
      "execution_count": 61,
      "outputs": []
    },
    {
      "cell_type": "code",
      "source": [
        "transform = transforms.Compose([\n",
        "    transforms.Resize((224, 224)),\n",
        "    transforms.ToTensor(),\n",
        "    transforms.Normalize(mean=[0.485, 0.456, 0.406], std=[0.229, 0.224, 0.225])\n",
        "])"
      ],
      "metadata": {
        "id": "X1e_VM-M2Mp3"
      },
      "execution_count": 62,
      "outputs": []
    },
    {
      "cell_type": "code",
      "source": [
        "def data_extractor(data_dir):\n",
        "  images = []\n",
        "  labels = []\n",
        "\n",
        "  class_names = sorted(os.listdir(data_dir))\n",
        "  for class_idx, class_name in enumerate(class_names):\n",
        "      class_dir = os.path.join(data_dir, class_name)\n",
        "      for img_file in os.listdir(class_dir):\n",
        "          img_path = os.path.join(class_dir, img_file)\n",
        "          img = Image.open(img_path).convert(\"RGB\")\n",
        "\n",
        "          if img is None:\n",
        "              continue\n",
        "\n",
        "          images.append(img)\n",
        "          labels.append(class_idx)\n",
        "  return images, labels\n",
        "\n"
      ],
      "metadata": {
        "id": "KFgeMCzb2faz"
      },
      "execution_count": 63,
      "outputs": []
    },
    {
      "cell_type": "code",
      "source": [
        "train_images, train_labels = data_extractor(data_train_path)\n",
        "test_images, test_labels = data_extractor(data_test_path)\n"
      ],
      "metadata": {
        "id": "gGyxW22q3Y5W"
      },
      "execution_count": 64,
      "outputs": []
    },
    {
      "cell_type": "code",
      "source": [
        "class_names = os.listdir(data_train_path)\n",
        "num_classes = len(class_names)\n",
        "print(\"Class names: \", class_names)\n",
        "print(\"Num of class: \", num_classes)"
      ],
      "metadata": {
        "colab": {
          "base_uri": "https://localhost:8080/"
        },
        "id": "v8GthVKu4laZ",
        "outputId": "dd3f4c2c-8373-43df-a74b-14b286220aa1"
      },
      "execution_count": 65,
      "outputs": [
        {
          "output_type": "stream",
          "name": "stdout",
          "text": [
            "Class names:  ['Cuc', 'Dao', 'Lan', 'Mai', 'Tho']\n",
            "Num of class:  5\n"
          ]
        }
      ]
    },
    {
      "cell_type": "markdown",
      "source": [
        "# Create Custom Dataset"
      ],
      "metadata": {
        "id": "u5fud8YX4zeV"
      }
    },
    {
      "cell_type": "code",
      "source": [
        "class CustomDataset(Dataset):\n",
        "    def __init__(self, images, labels, transform=None):\n",
        "        self.images = images\n",
        "        self.labels = labels\n",
        "        self.transform = transform\n",
        "\n",
        "    def __len__(self):\n",
        "        return len(self.images)\n",
        "\n",
        "    def __getitem__(self, idx):\n",
        "        image = self.images[idx]\n",
        "        label = self.labels[idx]\n",
        "\n",
        "        if self.transform:\n",
        "            image = self.transform(image)\n",
        "        return image, label"
      ],
      "metadata": {
        "id": "U3RtN7mP4d2w"
      },
      "execution_count": 66,
      "outputs": []
    },
    {
      "cell_type": "code",
      "source": [
        "train_dataset = CustomDataset(train_images, train_labels, transform=transform)\n",
        "test_dataset = CustomDataset(test_images, test_labels, transform=transform)"
      ],
      "metadata": {
        "id": "2e0nWbl87HPB"
      },
      "execution_count": 67,
      "outputs": []
    },
    {
      "cell_type": "code",
      "source": [
        "train_loader = DataLoader(train_dataset, batch_size=64, shuffle=True)\n",
        "test_loader = DataLoader(test_dataset, batch_size=64, shuffle=False)"
      ],
      "metadata": {
        "id": "VTDGsG92-UdR"
      },
      "execution_count": 68,
      "outputs": []
    },
    {
      "cell_type": "markdown",
      "source": [
        "# Model"
      ],
      "metadata": {
        "id": "tFO8F7-i7NGi"
      }
    },
    {
      "cell_type": "code",
      "source": [
        "# define ViT model\n",
        "device = \"cuda\" if torch.cuda.is_available() else \"cpu\"\n",
        "print(device)\n",
        "\n",
        "model = create_model('vit_base_patch16_224', pretrained=True, num_classes=num_classes) # Pretrain ViT\n",
        "model = model.to(device)\n",
        ""
      ],
      "metadata": {
        "colab": {
          "base_uri": "https://localhost:8080/"
        },
        "id": "0E-py7Ng7MOm",
        "outputId": "ae18ad81-282c-4494-ef44-cffba50ecba8"
      },
      "execution_count": 69,
      "outputs": [
        {
          "output_type": "stream",
          "name": "stdout",
          "text": [
            "cuda\n"
          ]
        }
      ]
    },
    {
      "cell_type": "code",
      "source": [
        "# loss function\n",
        "criterion = nn.CrossEntropyLoss()\n",
        "\n",
        "# optimizer\n",
        "optimizer = optim.Adam(model.parameters(), lr=1e-4)"
      ],
      "metadata": {
        "id": "V9u06Hm47ivz"
      },
      "execution_count": 70,
      "outputs": []
    },
    {
      "cell_type": "markdown",
      "source": [
        "# Training"
      ],
      "metadata": {
        "id": "_Ntsm7St8YR1"
      }
    },
    {
      "cell_type": "code",
      "source": [
        "def train(model, train_loader, criterion, optimzer, device, epochs=10):\n",
        "    model.train()\n",
        "    for epoch in range(epochs):\n",
        "        running_loss = 0\n",
        "        correct, total = 0, 0\n",
        "\n",
        "        for images, labels in train_loader:\n",
        "            images, labels = images.to(device), labels.to(device)\n",
        "\n",
        "            # zero the gradient\n",
        "            optimizer.zero_grad()\n",
        "\n",
        "            # forward pass\n",
        "            outputs = model(images)\n",
        "            loss = criterion(outputs, labels)\n",
        "\n",
        "            # backward pass\n",
        "            loss.backward()\n",
        "            optimizer.step()\n",
        "\n",
        "            running_loss += loss.item()\n",
        "            _, predicted = torch.max(outputs.data, 1)\n",
        "            total += labels.size(0)\n",
        "            correct += (predicted == labels).sum().item()\n",
        "\n",
        "        print(f\"Epoch [{epoch + 1}/{epochs}] \\tLoss: {running_loss/len(train_loader)} \\tAccuracy: {(100 * correct/total):.2f}%\")"
      ],
      "metadata": {
        "id": "G1-QLs4H8V3v"
      },
      "execution_count": 75,
      "outputs": []
    },
    {
      "cell_type": "code",
      "source": [
        "train(model, train_loader, criterion, optimizer, device, 5)"
      ],
      "metadata": {
        "colab": {
          "base_uri": "https://localhost:8080/"
        },
        "id": "XgnV1pYb9Yw-",
        "outputId": "082693b9-e6a8-4092-a917-3df57c36888b"
      },
      "execution_count": 76,
      "outputs": [
        {
          "output_type": "stream",
          "name": "stdout",
          "text": [
            "Epoch [1/5] \tLoss: 0.020869992417283358 \tAccuracy: 98.67%\n",
            "Epoch [2/5] \tLoss: 0.014135573315434158 \tAccuracy: 99.33%\n",
            "Epoch [3/5] \tLoss: 0.02426503400201909 \tAccuracy: 99.33%\n",
            "Epoch [4/5] \tLoss: 0.006379417306743562 \tAccuracy: 100.00%\n",
            "Epoch [5/5] \tLoss: 0.00012323108094278724 \tAccuracy: 100.00%\n"
          ]
        }
      ]
    },
    {
      "cell_type": "code",
      "source": [
        "def evaluate(model, test_loader, device):\n",
        "    model.eval()\n",
        "    correct, total = 0, 0\n",
        "    with torch.no_grad():\n",
        "        for images, labels in test_loader:\n",
        "            images, labels = images.to(device), labels.to(device)\n",
        "            outputs = model(images)\n",
        "            _, predicted = torch.max(outputs.data, 1)\n",
        "            total += labels.size(0)\n",
        "            correct += (predicted == labels).sum().item()\n",
        "\n",
        "    print(f'Accuracy on test data: {100 * correct / total:.2f}%')\n",
        "\n"
      ],
      "metadata": {
        "id": "Ht7VK4JG-iF1"
      },
      "execution_count": 77,
      "outputs": []
    },
    {
      "cell_type": "code",
      "source": [
        "evaluate(model, test_loader, device)"
      ],
      "metadata": {
        "colab": {
          "base_uri": "https://localhost:8080/"
        },
        "id": "JskqE22J-kA8",
        "outputId": "e8192ed0-75fd-4229-c312-fdb1234f4c9f"
      },
      "execution_count": 78,
      "outputs": [
        {
          "output_type": "stream",
          "name": "stdout",
          "text": [
            "Accuracy on test data: 96.00%\n"
          ]
        }
      ]
    }
  ]
}